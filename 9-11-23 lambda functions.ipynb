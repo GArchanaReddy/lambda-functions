{
 "cells": [
  {
   "cell_type": "markdown",
   "id": "4b776a21",
   "metadata": {},
   "source": [
    "Lamba function :\n",
    "  lamda function are  anonymous function  means that the function is without a name.\n",
    "  #the lamda keyword is used to define an anonymus function in python.\n",
    "  #these are defined in a single line.  \n",
    "  #syntax is : lamda var/s:<statement/using these var/s\n",
    "   #These function by default will return a value no need to write a return statement.\n",
    "   "
   ]
  },
  {
   "cell_type": "code",
   "execution_count": 1,
   "id": "d27527f8",
   "metadata": {},
   "outputs": [
    {
     "data": {
      "text/plain": [
       "8"
      ]
     },
     "execution_count": 1,
     "metadata": {},
     "output_type": "execute_result"
    }
   ],
   "source": [
    "def foopower(x, y):\n",
    "    return x**y\n",
    "foopower(2, 3)"
   ]
  },
  {
   "cell_type": "code",
   "execution_count": 4,
   "id": "2e0f9f37",
   "metadata": {},
   "outputs": [
    {
     "data": {
      "text/plain": [
       "8"
      ]
     },
     "execution_count": 4,
     "metadata": {},
     "output_type": "execute_result"
    }
   ],
   "source": [
    "(lambda x, y : x**y)(2, 3)# using lamda experssion."
   ]
  },
  {
   "cell_type": "code",
   "execution_count": 5,
   "id": "0fb37f78",
   "metadata": {},
   "outputs": [
    {
     "data": {
      "text/plain": [
       "'odd'"
      ]
     },
     "execution_count": 5,
     "metadata": {},
     "output_type": "execute_result"
    }
   ],
   "source": [
    "x = 5\n",
    "'Even'if x%2==0 else 'odd'"
   ]
  },
  {
   "cell_type": "code",
   "execution_count": 9,
   "id": "10a2d8d3",
   "metadata": {},
   "outputs": [
    {
     "data": {
      "text/plain": [
       "8"
      ]
     },
     "execution_count": 9,
     "metadata": {},
     "output_type": "execute_result"
    }
   ],
   "source": [
    "c = lambda x, y : x**y\n",
    "c(2,3)"
   ]
  },
  {
   "cell_type": "markdown",
   "id": "a65ea8b4",
   "metadata": {},
   "source": [
    "Higher order function :\n",
    "  function is called higher order function if it contains other function as a parameter or returns a function as an output.the function that operate with another function are knowns as higher order function.\n",
    "  python too suports the concepts of higher order function.\n",
    "  map\n",
    "  filter \n",
    "  reduce\n",
    "  "
   ]
  },
  {
   "cell_type": "markdown",
   "id": "4212c834",
   "metadata": {},
   "source": [
    "Map :\n",
    "    we use map function to apply our functionn on each element of an iterator.\n",
    "    syntax of map :\n",
    "        map(func,iterator)\n",
    "            \n",
    "            \n",
    "            "
   ]
  },
  {
   "cell_type": "code",
   "execution_count": 11,
   "id": "a228ceac",
   "metadata": {},
   "outputs": [
    {
     "data": {
      "text/plain": [
       "<map at 0x14d42a55d20>"
      ]
     },
     "execution_count": 11,
     "metadata": {},
     "output_type": "execute_result"
    }
   ],
   "source": [
    "z = map(lambda x: x**2,[1,2,3])\n",
    "z"
   ]
  },
  {
   "cell_type": "code",
   "execution_count": 12,
   "id": "b1aea1c0",
   "metadata": {},
   "outputs": [
    {
     "data": {
      "text/plain": [
       "[1, 4, 9]"
      ]
     },
     "execution_count": 12,
     "metadata": {},
     "output_type": "execute_result"
    }
   ],
   "source": [
    "list(z)"
   ]
  },
  {
   "cell_type": "code",
   "execution_count": 13,
   "id": "0b739bb2",
   "metadata": {},
   "outputs": [
    {
     "data": {
      "text/plain": [
       "[32, 97, 98, 99]"
      ]
     },
     "execution_count": 13,
     "metadata": {},
     "output_type": "execute_result"
    }
   ],
   "source": [
    "z = map(ord, ' abc')\n",
    "list(z)"
   ]
  },
  {
   "cell_type": "code",
   "execution_count": 14,
   "id": "27df5644",
   "metadata": {},
   "outputs": [
    {
     "data": {
      "text/plain": [
       "[65, 66, 67]"
      ]
     },
     "execution_count": 14,
     "metadata": {},
     "output_type": "execute_result"
    }
   ],
   "source": [
    "z = map(ord, 'ABC')\n",
    "list(z)"
   ]
  },
  {
   "cell_type": "code",
   "execution_count": 15,
   "id": "91d32b4b",
   "metadata": {},
   "outputs": [
    {
     "data": {
      "text/plain": [
       "<map at 0x14d42a54e80>"
      ]
     },
     "execution_count": 15,
     "metadata": {},
     "output_type": "execute_result"
    }
   ],
   "source": [
    "z = map(lambda x: x/0,[1,2,3])\n",
    "z"
   ]
  },
  {
   "cell_type": "code",
   "execution_count": 16,
   "id": "e01fc337",
   "metadata": {},
   "outputs": [
    {
     "data": {
      "text/plain": [
       "[1, 4, 27]"
      ]
     },
     "execution_count": 16,
     "metadata": {},
     "output_type": "execute_result"
    }
   ],
   "source": [
    "list(map(lambda x:x**x, [1,2,3]))"
   ]
  },
  {
   "cell_type": "markdown",
   "id": "aa4431a8",
   "metadata": {},
   "source": [
    "filter:\n",
    "filter() function is a function used to filter the sequence of lists, tuples, etc.\n",
    " filter (0) is a built in function.\n",
    " "
   ]
  },
  {
   "cell_type": "code",
   "execution_count": null,
   "id": "be62d117",
   "metadata": {},
   "outputs": [],
   "source": []
  },
  {
   "cell_type": "code",
   "execution_count": 25,
   "id": "c9e086f7",
   "metadata": {},
   "outputs": [
    {
     "ename": "SyntaxError",
     "evalue": "expected 'else' after 'if' expression (2569728510.py, line 1)",
     "output_type": "error",
     "traceback": [
      "\u001b[1;36m  Cell \u001b[1;32mIn[25], line 1\u001b[1;36m\u001b[0m\n\u001b[1;33m    z = (filter(lambda x:Tue if x%%2==0 else False, 'archana'))\u001b[0m\n\u001b[1;37m                         ^\u001b[0m\n\u001b[1;31mSyntaxError\u001b[0m\u001b[1;31m:\u001b[0m expected 'else' after 'if' expression\n"
     ]
    }
   ],
   "source": [
    "z = (filter(lambda x:Tue if x%%2==0 else False, 'archana'))\n",
    "z"
   ]
  },
  {
   "cell_type": "markdown",
   "id": "e8dad23d",
   "metadata": {},
   "source": [
    "Reduce :\n",
    " The reduce() function takes in a function and a list is an arguments.\n",
    " the function is called with a lambda function and an iterable and a new reduced results is returned.\n",
    " the reduce() function belongs to function module."
   ]
  }
 ],
 "metadata": {
  "kernelspec": {
   "display_name": "Python 3 (ipykernel)",
   "language": "python",
   "name": "python3"
  },
  "language_info": {
   "codemirror_mode": {
    "name": "ipython",
    "version": 3
   },
   "file_extension": ".py",
   "mimetype": "text/x-python",
   "name": "python",
   "nbconvert_exporter": "python",
   "pygments_lexer": "ipython3",
   "version": "3.11.5"
  }
 },
 "nbformat": 4,
 "nbformat_minor": 5
}
